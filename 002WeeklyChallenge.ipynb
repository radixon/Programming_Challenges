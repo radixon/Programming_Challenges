{
 "cells": [
  {
   "cell_type": "markdown",
   "id": "8086a077-f392-4cde-9b71-4f90d5a0ec72",
   "metadata": {},
   "source": [
    "# FizzBuzz"
   ]
  },
  {
   "cell_type": "markdown",
   "id": "a27184c3-0396-4c80-b454-504dda0c2248",
   "metadata": {},
   "source": [
    "If a number is a multiple of 3 print Fizz.\n",
    "If a number is a multiple of 5 print Buzz.\n",
    "If a number is a multiple of both 3 and 5 print FizzBuzz."
   ]
  },
  {
   "cell_type": "code",
   "execution_count": 1,
   "id": "92a245b4-04b8-4d7c-86ce-6a596c992194",
   "metadata": {},
   "outputs": [],
   "source": [
    "def fizzbuzz(n):\n",
    "    # Start with the highest number so the program prints and exits if a multiple of both\n",
    "    # Check for zero as it is not a multiple of 3 or 5\n",
    "    if n % (3*5) == 0 and n != 0:\n",
    "        print(\"FizzBuzz\", '\\t', end='')\n",
    "    \n",
    "    # Then check for the next higher number for readability. Descending in order makes the logic easier to follow\n",
    "    # Check for zero as it is not a multiple of 3 or 5\n",
    "    elif n % 5 == 0 and n != 0:\n",
    "        print(\"Buzz\", '\\t', end='')\n",
    "        \n",
    "    # Then check for the next higher number for readability. Descending in order makes the logic easier to follow\n",
    "    # Check for zero as it is not a multiple of 3 or 5\n",
    "    elif n % 3 == 0 and n != 0:\n",
    "        print(\"Fizz\", '\\t', end='')\n",
    "        \n",
    "    # Finally print input as is if it is not a multiple of either 3 or 5\n",
    "    else:\n",
    "        print(n, '\\t', end='')"
   ]
  },
  {
   "cell_type": "code",
   "execution_count": 2,
   "id": "7c3b5500-0a33-4a05-8250-8a7ad4a738be",
   "metadata": {},
   "outputs": [
    {
     "name": "stdout",
     "output_type": "stream",
     "text": [
      "0 \t1 \t2 \tFizz \t4 \tBuzz \tFizz \t7 \t8 \tFizz \tBuzz \t11 \tFizz \t13 \t14 \tFizzBuzz \t16 \t17 \tFizz \t19 \tBuzz \tFizz \t22 \t23 \tFizz \tBuzz \t26 \tFizz \t28 \t29 \tFizzBuzz \t31 \t32 \tFizz \t34 \tBuzz \tFizz \t37 \t38 \tFizz \tBuzz \t41 \tFizz \t43 \t44 \tFizzBuzz \t46 \t47 \tFizz \t49 \tBuzz \tFizz \t52 \t53 \tFizz \tBuzz \t56 \tFizz \t58 \t59 \tFizzBuzz \t61 \t62 \tFizz \t64 \tBuzz \tFizz \t67 \t68 \tFizz \tBuzz \t71 \tFizz \t73 \t74 \tFizzBuzz \t76 \t77 \tFizz \t79 \tBuzz \tFizz \t82 \t83 \tFizz \tBuzz \t86 \tFizz \t88 \t89 \tFizzBuzz \t91 \t92 \tFizz \t94 \tBuzz \tFizz \t97 \t98 \tFizz \tBuzz \t101 \tFizz \t103 \t104 \tFizzBuzz \t106 \t107 \tFizz \t109 \tBuzz \tFizz \t112 \t113 \tFizz \tBuzz \t116 \tFizz \t118 \t119 \tFizzBuzz \t121 \t122 \tFizz \t124 \tBuzz \tFizz \t127 \t128 \tFizz \tBuzz \t131 \tFizz \t133 \t134 \tFizzBuzz \t136 \t137 \tFizz \t139 \tBuzz \tFizz \t142 \t143 \tFizz \tBuzz \t146 \tFizz \t148 \t149 \tFizzBuzz \t"
     ]
    }
   ],
   "source": [
    "for i in range(151):\n",
    "    fizzbuzz(i)"
   ]
  },
  {
   "cell_type": "code",
   "execution_count": null,
   "id": "012aa61a-b4ee-4c6f-b951-2ac5fc651af2",
   "metadata": {},
   "outputs": [],
   "source": []
  },
  {
   "cell_type": "code",
   "execution_count": null,
   "id": "a228656a-16b7-41d6-b82a-ad20c2da6926",
   "metadata": {},
   "outputs": [],
   "source": []
  },
  {
   "cell_type": "code",
   "execution_count": null,
   "id": "f21349ae-3d93-4efa-9bd5-ab1886f10164",
   "metadata": {},
   "outputs": [],
   "source": []
  }
 ],
 "metadata": {
  "kernelspec": {
   "display_name": "Python 3 (ipykernel)",
   "language": "python",
   "name": "python3"
  },
  "language_info": {
   "codemirror_mode": {
    "name": "ipython",
    "version": 3
   },
   "file_extension": ".py",
   "mimetype": "text/x-python",
   "name": "python",
   "nbconvert_exporter": "python",
   "pygments_lexer": "ipython3",
   "version": "3.9.12"
  }
 },
 "nbformat": 4,
 "nbformat_minor": 5
}

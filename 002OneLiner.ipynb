{
 "cells": [
  {
   "cell_type": "markdown",
   "metadata": {},
   "source": [
    "# FizzBuzz"
   ]
  },
  {
   "cell_type": "markdown",
   "metadata": {},
   "source": [
    "If a number is a multiple of 3 print Fizz. \n",
    "If a number is a multiple of 5 print Buzz. \n",
    "If a number is a multiple of both 3 and 5 print FizzBuzz."
   ]
  },
  {
   "cell_type": "code",
   "execution_count": 1,
   "metadata": {},
   "outputs": [
    {
     "name": "stdout",
     "output_type": "stream",
     "text": [
      "0 \t1 \t2 \tFizz \t4 \tBuzz \tFizz \t7 \t8 \tFizz \tBuzz \t11 \tFizz \t13 \t14 \tFizzBuzz \t16 \t17 \tFizz \t19 \tBuzz \tFizz \t22 \t23 \tFizz \tBuzz \t26 \tFizz \t28 \t29 \tFizzBuzz \t31 \t32 \tFizz \t34 \tBuzz \tFizz \t37 \t38 \tFizz \tBuzz \t41 \tFizz \t43 \t44 \tFizzBuzz \t46 \t47 \tFizz \t49 \tBuzz \tFizz \t52 \t53 \tFizz \tBuzz \t56 \tFizz \t58 \t59 \tFizzBuzz \t61 \t62 \tFizz \t64 \tBuzz \tFizz \t67 \t68 \tFizz \tBuzz \t71 \tFizz \t73 \t74 \tFizzBuzz \t76 \t77 \tFizz \t79 \tBuzz \tFizz \t82 \t83 \tFizz \tBuzz \t86 \tFizz \t88 \t89 \tFizzBuzz \t91 \t92 \tFizz \t94 \tBuzz \tFizz \t97 \t98 \tFizz \tBuzz \t101 \tFizz \t103 \t104 \tFizzBuzz \t106 \t107 \tFizz \t109 \tBuzz \tFizz \t112 \t113 \tFizz \tBuzz \t116 \tFizz \t118 \t119 \tFizzBuzz \t121 \t122 \tFizz \t124 \tBuzz \tFizz \t127 \t128 \tFizz \tBuzz \t131 \tFizz \t133 \t134 \tFizzBuzz \t136 \t137 \tFizz \t139 \tBuzz \tFizz \t142 \t143 \tFizz \tBuzz \t146 \tFizz \t148 \t149 \tFizzBuzz \t"
     ]
    }
   ],
   "source": [
    "fizzbuzz = lambda x: print(x if x == 0 else(\"FizzBuzz\" if x % (3*5) == 0 else(\"Buzz\" if x % 5 == 0 else(\"Fizz\" if x % 3 == 0 else x))), '\\t', end='')\n",
    "for i in range(151): fizzbuzz(i)"
   ]
  },
  {
   "cell_type": "code",
   "execution_count": 2,
   "metadata": {},
   "outputs": [
    {
     "name": "stdout",
     "output_type": "stream",
     "text": [
      "0 \t1 \t2 \tFizz \t4 \tBuzz \tFizz \t7 \t8 \tFizz \tBuzz \t11 \tFizz \t13 \t14 \tFizzBuzz \t16 \t17 \tFizz \t19 \tBuzz \tFizz \t22 \t23 \tFizz \tBuzz \t26 \tFizz \t28 \t29 \tFizzBuzz \t31 \t32 \tFizz \t34 \tBuzz \tFizz \t37 \t38 \tFizz \tBuzz \t41 \tFizz \t43 \t44 \tFizzBuzz \t46 \t47 \tFizz \t49 \tBuzz \tFizz \t52 \t53 \tFizz \tBuzz \t56 \tFizz \t58 \t59 \tFizzBuzz \t61 \t62 \tFizz \t64 \tBuzz \tFizz \t67 \t68 \tFizz \tBuzz \t71 \tFizz \t73 \t74 \tFizzBuzz \t76 \t77 \tFizz \t79 \tBuzz \tFizz \t82 \t83 \tFizz \tBuzz \t86 \tFizz \t88 \t89 \tFizzBuzz \t91 \t92 \tFizz \t94 \tBuzz \tFizz \t97 \t98 \tFizz \tBuzz \t101 \tFizz \t103 \t104 \tFizzBuzz \t106 \t107 \tFizz \t109 \tBuzz \tFizz \t112 \t113 \tFizz \tBuzz \t116 \tFizz \t118 \t119 \tFizzBuzz \t121 \t122 \tFizz \t124 \tBuzz \tFizz \t127 \t128 \tFizz \tBuzz \t131 \tFizz \t133 \t134 \tFizzBuzz \t136 \t137 \tFizz \t139 \tBuzz \tFizz \t142 \t143 \tFizz \tBuzz \t146 \tFizz \t148 \t149 \tFizzBuzz \t"
     ]
    },
    {
     "data": {
      "text/plain": [
       "[None,\n",
       " None,\n",
       " None,\n",
       " None,\n",
       " None,\n",
       " None,\n",
       " None,\n",
       " None,\n",
       " None,\n",
       " None,\n",
       " None,\n",
       " None,\n",
       " None,\n",
       " None,\n",
       " None,\n",
       " None,\n",
       " None,\n",
       " None,\n",
       " None,\n",
       " None,\n",
       " None,\n",
       " None,\n",
       " None,\n",
       " None,\n",
       " None,\n",
       " None,\n",
       " None,\n",
       " None,\n",
       " None,\n",
       " None,\n",
       " None,\n",
       " None,\n",
       " None,\n",
       " None,\n",
       " None,\n",
       " None,\n",
       " None,\n",
       " None,\n",
       " None,\n",
       " None,\n",
       " None,\n",
       " None,\n",
       " None,\n",
       " None,\n",
       " None,\n",
       " None,\n",
       " None,\n",
       " None,\n",
       " None,\n",
       " None,\n",
       " None,\n",
       " None,\n",
       " None,\n",
       " None,\n",
       " None,\n",
       " None,\n",
       " None,\n",
       " None,\n",
       " None,\n",
       " None,\n",
       " None,\n",
       " None,\n",
       " None,\n",
       " None,\n",
       " None,\n",
       " None,\n",
       " None,\n",
       " None,\n",
       " None,\n",
       " None,\n",
       " None,\n",
       " None,\n",
       " None,\n",
       " None,\n",
       " None,\n",
       " None,\n",
       " None,\n",
       " None,\n",
       " None,\n",
       " None,\n",
       " None,\n",
       " None,\n",
       " None,\n",
       " None,\n",
       " None,\n",
       " None,\n",
       " None,\n",
       " None,\n",
       " None,\n",
       " None,\n",
       " None,\n",
       " None,\n",
       " None,\n",
       " None,\n",
       " None,\n",
       " None,\n",
       " None,\n",
       " None,\n",
       " None,\n",
       " None,\n",
       " None,\n",
       " None,\n",
       " None,\n",
       " None,\n",
       " None,\n",
       " None,\n",
       " None,\n",
       " None,\n",
       " None,\n",
       " None,\n",
       " None,\n",
       " None,\n",
       " None,\n",
       " None,\n",
       " None,\n",
       " None,\n",
       " None,\n",
       " None,\n",
       " None,\n",
       " None,\n",
       " None,\n",
       " None,\n",
       " None,\n",
       " None,\n",
       " None,\n",
       " None,\n",
       " None,\n",
       " None,\n",
       " None,\n",
       " None,\n",
       " None,\n",
       " None,\n",
       " None,\n",
       " None,\n",
       " None,\n",
       " None,\n",
       " None,\n",
       " None,\n",
       " None,\n",
       " None,\n",
       " None,\n",
       " None,\n",
       " None,\n",
       " None,\n",
       " None,\n",
       " None,\n",
       " None,\n",
       " None,\n",
       " None,\n",
       " None,\n",
       " None]"
      ]
     },
     "execution_count": 2,
     "metadata": {},
     "output_type": "execute_result"
    }
   ],
   "source": [
    "list(map(lambda x: print(x if x == 0 else(\"FizzBuzz\" if x % (3*5) == 0 else(\"Buzz\" if x % 5 == 0 else(\"Fizz\" if x % 3 == 0 else x))), '\\t', end=''),[x for x in range(151)]))"
   ]
  },
  {
   "cell_type": "code",
   "execution_count": 3,
   "metadata": {},
   "outputs": [
    {
     "name": "stdout",
     "output_type": "stream",
     "text": [
      "[1, 2, 'Fizz', 4, 'Buzz', 'Fizz', 7, 8, 'Fizz', 'Buzz', 11, 'Fizz', 13, 14, 'FizzBuzz', 16, 17, 'Fizz', 19, 'Buzz', 'Fizz', 22, 23, 'Fizz', 'Buzz', 26, 'Fizz', 28, 29, 'FizzBuzz', 31, 32, 'Fizz', 34, 'Buzz', 'Fizz', 37, 38, 'Fizz', 'Buzz', 41, 'Fizz', 43, 44, 'FizzBuzz', 46, 47, 'Fizz', 49, 'Buzz', 'Fizz', 52, 53, 'Fizz', 'Buzz', 56, 'Fizz', 58, 59, 'FizzBuzz', 61, 62, 'Fizz', 64, 'Buzz', 'Fizz', 67, 68, 'Fizz', 'Buzz', 71, 'Fizz', 73, 74, 'FizzBuzz', 76, 77, 'Fizz', 79, 'Buzz', 'Fizz', 82, 83, 'Fizz', 'Buzz', 86, 'Fizz', 88, 89, 'FizzBuzz', 91, 92, 'Fizz', 94, 'Buzz', 'Fizz', 97, 98, 'Fizz', 'Buzz', 101, 'Fizz', 103, 104, 'FizzBuzz', 106, 107, 'Fizz', 109, 'Buzz', 'Fizz', 112, 113, 'Fizz', 'Buzz', 116, 'Fizz', 118, 119, 'FizzBuzz', 121, 122, 'Fizz', 124, 'Buzz', 'Fizz', 127, 128, 'Fizz', 'Buzz', 131, 'Fizz', 133, 134, 'FizzBuzz', 136, 137, 'Fizz', 139, 'Buzz', 'Fizz', 142, 143, 'Fizz', 'Buzz', 146, 'Fizz', 148, 149, 'FizzBuzz']\n"
     ]
    }
   ],
   "source": [
    "print([\"Fizz\"*(x%3==0) + \"Buzz\"*(x%5==0) or x for x in range(1,151)])"
   ]
  },
  {
   "cell_type": "code",
   "execution_count": null,
   "metadata": {},
   "outputs": [],
   "source": []
  },
  {
   "cell_type": "code",
   "execution_count": null,
   "metadata": {},
   "outputs": [],
   "source": []
  }
 ],
 "metadata": {
  "kernelspec": {
   "display_name": "Python 3",
   "language": "python",
   "name": "python3"
  },
  "language_info": {
   "codemirror_mode": {
    "name": "ipython",
    "version": 3
   },
   "file_extension": ".py",
   "mimetype": "text/x-python",
   "name": "python",
   "nbconvert_exporter": "python",
   "pygments_lexer": "ipython3",
   "version": "3.7.9"
  }
 },
 "nbformat": 4,
 "nbformat_minor": 4
}

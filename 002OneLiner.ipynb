{
 "cells": [
  {
   "cell_type": "markdown",
   "id": "9cdde6c3-c7bd-403d-a8e3-a9896523b7ee",
   "metadata": {},
   "source": [
    "# FizzBuzz"
   ]
  },
  {
   "cell_type": "markdown",
   "id": "67b01fb6-647f-495f-bca4-6c908848432e",
   "metadata": {},
   "source": [
    "If a number is a multiple of 3 print Fizz.\n",
    "If a number is a multiple of 5 print Buzz.\n",
    "If a number is a multiple of both 3 and 5 print FizzBuzz."
   ]
  },
  {
   "cell_type": "code",
   "execution_count": 1,
   "id": "2b71bf33-c94e-4668-9553-49a172089124",
   "metadata": {},
   "outputs": [
    {
     "name": "stdout",
     "output_type": "stream",
     "text": [
      "0 \t1 \t2 \tFizz \t4 \tBuzz \tFizz \t7 \t8 \tFizz \tBuzz \t11 \tFizz \t13 \t14 \tFizzBuzz \t16 \t17 \tFizz \t19 \tBuzz \tFizz \t22 \t23 \tFizz \tBuzz \t26 \tFizz \t28 \t29 \tFizzBuzz \t31 \t32 \tFizz \t34 \tBuzz \tFizz \t37 \t38 \tFizz \tBuzz \t41 \tFizz \t43 \t44 \tFizzBuzz \t46 \t47 \tFizz \t49 \tBuzz \tFizz \t52 \t53 \tFizz \tBuzz \t56 \tFizz \t58 \t59 \tFizzBuzz \t61 \t62 \tFizz \t64 \tBuzz \tFizz \t67 \t68 \tFizz \tBuzz \t71 \tFizz \t73 \t74 \tFizzBuzz \t76 \t77 \tFizz \t79 \tBuzz \tFizz \t82 \t83 \tFizz \tBuzz \t86 \tFizz \t88 \t89 \tFizzBuzz \t91 \t92 \tFizz \t94 \tBuzz \tFizz \t97 \t98 \tFizz \tBuzz \t101 \tFizz \t103 \t104 \tFizzBuzz \t106 \t107 \tFizz \t109 \tBuzz \tFizz \t112 \t113 \tFizz \tBuzz \t116 \tFizz \t118 \t119 \tFizzBuzz \t121 \t122 \tFizz \t124 \tBuzz \tFizz \t127 \t128 \tFizz \tBuzz \t131 \tFizz \t133 \t134 \tFizzBuzz \t136 \t137 \tFizz \t139 \tBuzz \tFizz \t142 \t143 \tFizz \tBuzz \t146 \tFizz \t148 \t149 \tFizzBuzz \t"
     ]
    }
   ],
   "source": [
    "fizzbuzz = lambda x: print(x if x == 0 else(\"FizzBuzz\" if x % (3*5) == 0 else(\"Buzz\" if x % 5 == 0 else(\"Fizz\" if x % 3 == 0 else x))), '\\t', end='')\n",
    "for i in range(151): fizzbuzz(i)"
   ]
  },
  {
   "cell_type": "code",
   "execution_count": 28,
   "id": "8d6c6668-0f71-4a7a-a3d8-fd284879cb96",
   "metadata": {},
   "outputs": [
    {
     "name": "stdout",
     "output_type": "stream",
     "text": [
      "0 \t1 \t2 \tFizz \t4 \tBuzz \tFizz \t7 \t8 \tFizz \tBuzz \t11 \tFizz \t13 \t14 \tFizzBuzz \t16 \t17 \tFizz \t19 \tBuzz \tFizz \t22 \t23 \tFizz \tBuzz \t26 \tFizz \t28 \t29 \tFizzBuzz \t31 \t32 \tFizz \t34 \tBuzz \tFizz \t37 \t38 \tFizz \tBuzz \t41 \tFizz \t43 \t44 \tFizzBuzz \t46 \t47 \tFizz \t49 \tBuzz \tFizz \t52 \t53 \tFizz \tBuzz \t56 \tFizz \t58 \t59 \tFizzBuzz \t61 \t62 \tFizz \t64 \tBuzz \tFizz \t67 \t68 \tFizz \tBuzz \t71 \tFizz \t73 \t74 \tFizzBuzz \t76 \t77 \tFizz \t79 \tBuzz \tFizz \t82 \t83 \tFizz \tBuzz \t86 \tFizz \t88 \t89 \tFizzBuzz \t91 \t92 \tFizz \t94 \tBuzz \tFizz \t97 \t98 \tFizz \tBuzz \t101 \tFizz \t103 \t104 \tFizzBuzz \t106 \t107 \tFizz \t109 \tBuzz \tFizz \t112 \t113 \tFizz \tBuzz \t116 \tFizz \t118 \t119 \tFizzBuzz \t121 \t122 \tFizz \t124 \tBuzz \tFizz \t127 \t128 \tFizz \tBuzz \t131 \tFizz \t133 \t134 \tFizzBuzz \t136 \t137 \tFizz \t139 \tBuzz \tFizz \t142 \t143 \tFizz \tBuzz \t146 \tFizz \t148 \t149 \tFizzBuzz \t"
     ]
    },
    {
     "data": {
      "text/plain": [
       "[None,\n",
       " None,\n",
       " None,\n",
       " None,\n",
       " None,\n",
       " None,\n",
       " None,\n",
       " None,\n",
       " None,\n",
       " None,\n",
       " None,\n",
       " None,\n",
       " None,\n",
       " None,\n",
       " None,\n",
       " None,\n",
       " None,\n",
       " None,\n",
       " None,\n",
       " None,\n",
       " None,\n",
       " None,\n",
       " None,\n",
       " None,\n",
       " None,\n",
       " None,\n",
       " None,\n",
       " None,\n",
       " None,\n",
       " None,\n",
       " None,\n",
       " None,\n",
       " None,\n",
       " None,\n",
       " None,\n",
       " None,\n",
       " None,\n",
       " None,\n",
       " None,\n",
       " None,\n",
       " None,\n",
       " None,\n",
       " None,\n",
       " None,\n",
       " None,\n",
       " None,\n",
       " None,\n",
       " None,\n",
       " None,\n",
       " None,\n",
       " None,\n",
       " None,\n",
       " None,\n",
       " None,\n",
       " None,\n",
       " None,\n",
       " None,\n",
       " None,\n",
       " None,\n",
       " None,\n",
       " None,\n",
       " None,\n",
       " None,\n",
       " None,\n",
       " None,\n",
       " None,\n",
       " None,\n",
       " None,\n",
       " None,\n",
       " None,\n",
       " None,\n",
       " None,\n",
       " None,\n",
       " None,\n",
       " None,\n",
       " None,\n",
       " None,\n",
       " None,\n",
       " None,\n",
       " None,\n",
       " None,\n",
       " None,\n",
       " None,\n",
       " None,\n",
       " None,\n",
       " None,\n",
       " None,\n",
       " None,\n",
       " None,\n",
       " None,\n",
       " None,\n",
       " None,\n",
       " None,\n",
       " None,\n",
       " None,\n",
       " None,\n",
       " None,\n",
       " None,\n",
       " None,\n",
       " None,\n",
       " None,\n",
       " None,\n",
       " None,\n",
       " None,\n",
       " None,\n",
       " None,\n",
       " None,\n",
       " None,\n",
       " None,\n",
       " None,\n",
       " None,\n",
       " None,\n",
       " None,\n",
       " None,\n",
       " None,\n",
       " None,\n",
       " None,\n",
       " None,\n",
       " None,\n",
       " None,\n",
       " None,\n",
       " None,\n",
       " None,\n",
       " None,\n",
       " None,\n",
       " None,\n",
       " None,\n",
       " None,\n",
       " None,\n",
       " None,\n",
       " None,\n",
       " None,\n",
       " None,\n",
       " None,\n",
       " None,\n",
       " None,\n",
       " None,\n",
       " None,\n",
       " None,\n",
       " None,\n",
       " None,\n",
       " None,\n",
       " None,\n",
       " None,\n",
       " None,\n",
       " None,\n",
       " None,\n",
       " None,\n",
       " None,\n",
       " None,\n",
       " None]"
      ]
     },
     "execution_count": 28,
     "metadata": {},
     "output_type": "execute_result"
    }
   ],
   "source": [
    "list(map(lambda x: print(x if x == 0 else(\"FizzBuzz\" if x % (3*5) == 0 else(\"Buzz\" if x % 5 == 0 else(\"Fizz\" if x % 3 == 0 else x))), '\\t', end=''),[x for x in range(151)]))"
   ]
  },
  {
   "cell_type": "code",
   "execution_count": null,
   "id": "3a44fcbd-56f2-406d-8cc8-2999038ee601",
   "metadata": {},
   "outputs": [],
   "source": []
  }
 ],
 "metadata": {
  "kernelspec": {
   "display_name": "Python 3 (ipykernel)",
   "language": "python",
   "name": "python3"
  },
  "language_info": {
   "codemirror_mode": {
    "name": "ipython",
    "version": 3
   },
   "file_extension": ".py",
   "mimetype": "text/x-python",
   "name": "python",
   "nbconvert_exporter": "python",
   "pygments_lexer": "ipython3",
   "version": "3.9.12"
  }
 },
 "nbformat": 4,
 "nbformat_minor": 5
}

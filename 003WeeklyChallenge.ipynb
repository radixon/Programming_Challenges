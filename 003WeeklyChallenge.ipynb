{
 "cells": [
  {
   "cell_type": "code",
   "execution_count": 1,
   "id": "0d105a6e-b114-4453-b71f-71e64cb92478",
   "metadata": {},
   "outputs": [],
   "source": [
    "class Solution:\n",
    "    def palindrome(self, nums):\n",
    "        # Going to have to store individual digits in the integer\n",
    "        x = []\n",
    "        answer = []\n",
    "        \n",
    "        while nums:\n",
    "            # temp is used to store the current digit\n",
    "            temp = nums % 10\n",
    "            x.append(temp)\n",
    "            answer.append(temp)\n",
    "            nums = nums // 10\n",
    "        \n",
    "        # for loop used to traverse x.  \n",
    "        for i in range(len(x)):\n",
    "            # x[i] looks at the first number in the integer\n",
    "            # answer.pop() looks at the last number in the integer\n",
    "            if x[i] != answer.pop():                 \n",
    "                return True\n",
    "        return False"
   ]
  },
  {
   "cell_type": "code",
   "execution_count": 2,
   "id": "536b02d4-524d-4dfd-9f14-efad132545c2",
   "metadata": {},
   "outputs": [],
   "source": [
    "def main():\n",
    "    response = Solution()\n",
    "    num = 133\n",
    "    print(num,'is' + ' not'*(response.palindrome(num)) + \" a palindrome\")\n",
    "    num = 101\n",
    "    print(num,'is' + ' not'*(response.palindrome(num)) + \" a palindrome\")\n",
    "    num = 65416036098014\n",
    "    print(num,'is' + ' not'*(response.palindrome(num)) + \" a palindrome\")\n",
    "    num = 1234321\n",
    "    print(num,'is' + ' not'*(response.palindrome(num)) + \" a palindrome\")\n",
    "    num = 56140948409108094190196494980909481\n",
    "    print(num,'is' + ' not'*(response.palindrome(num)) + \" a palindrome\")"
   ]
  },
  {
   "cell_type": "code",
   "execution_count": 3,
   "id": "49c7f05c-ee54-4701-b9ba-0053551dc5c9",
   "metadata": {},
   "outputs": [
    {
     "name": "stdout",
     "output_type": "stream",
     "text": [
      "133 is not a palindrome\n",
      "101 is a palindrome\n",
      "65416036098014 is not a palindrome\n",
      "1234321 is a palindrome\n",
      "56140948409108094190196494980909481 is not a palindrome\n"
     ]
    }
   ],
   "source": [
    "if __name__ == '__main__':\n",
    "    main()"
   ]
  },
  {
   "cell_type": "code",
   "execution_count": null,
   "id": "fcf6a1a0-3fd1-4c76-b4d8-2732856018f8",
   "metadata": {},
   "outputs": [],
   "source": []
  },
  {
   "cell_type": "code",
   "execution_count": null,
   "id": "e625cd02-23fd-4afb-a05d-d5b89f8064f6",
   "metadata": {},
   "outputs": [],
   "source": []
  }
 ],
 "metadata": {
  "kernelspec": {
   "display_name": "Python 3 (ipykernel)",
   "language": "python",
   "name": "python3"
  },
  "language_info": {
   "codemirror_mode": {
    "name": "ipython",
    "version": 3
   },
   "file_extension": ".py",
   "mimetype": "text/x-python",
   "name": "python",
   "nbconvert_exporter": "python",
   "pygments_lexer": "ipython3",
   "version": "3.9.12"
  }
 },
 "nbformat": 4,
 "nbformat_minor": 5
}
